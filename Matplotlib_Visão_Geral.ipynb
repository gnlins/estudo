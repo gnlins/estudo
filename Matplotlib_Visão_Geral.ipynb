{
  "nbformat": 4,
  "nbformat_minor": 0,
  "metadata": {
    "colab": {
      "name": "Matplotlib_Visão Geral",
      "private_outputs": true,
      "provenance": [],
      "toc_visible": true,
      "mount_file_id": "1vGgmSoW5jStnfWqx9h3_qB3wt2RMRdBq",
      "authorship_tag": "ABX9TyMsvkbzdK4PGJrkWi6BI+O2",
      "include_colab_link": true
    },
    "kernelspec": {
      "name": "python3",
      "display_name": "Python 3"
    },
    "language_info": {
      "name": "python"
    }
  },
  "cells": [
    {
      "cell_type": "markdown",
      "metadata": {
        "id": "view-in-github",
        "colab_type": "text"
      },
      "source": [
        "<a href=\"https://colab.research.google.com/github/gnlins/estudo/blob/master/Matplotlib_Vis%C3%A3o_Geral.ipynb\" target=\"_parent\"><img src=\"https://colab.research.google.com/assets/colab-badge.svg\" alt=\"Open In Colab\"/></a>"
      ]
    },
    {
      "cell_type": "markdown",
      "metadata": {
        "id": "9dg4F1mJvZ8u"
      },
      "source": [
        "#Importando as Bibliotecas"
      ]
    },
    {
      "cell_type": "code",
      "metadata": {
        "id": "5EigK5qSnpMW"
      },
      "source": [
        "import pandas as pd\n",
        "import matplotlib.pyplot as plt\n",
        "import seaborn as sns"
      ],
      "execution_count": null,
      "outputs": []
    },
    {
      "cell_type": "markdown",
      "metadata": {
        "id": "XcecGl00vgy6"
      },
      "source": [
        "#Importando Dados\n",
        "- Dados sobre pivos de irrigação no brasil, disponibilizados [nesse site](https://dados.gov.br/dataset/pivos-mapeados6)\n",
        "- Dados das flores iris, obtido na biblioteca seaborn, mas também disponíveis [aqui](https://archive.ics.uci.edu/ml/datasets/iris)"
      ]
    },
    {
      "cell_type": "code",
      "metadata": {
        "id": "I7SmuU39prEh"
      },
      "source": [
        "pivos = pd.read_csv('https://dadosabertos.ana.gov.br/datasets/65ba38c8e5f5469886aa3a3690795165_0.csv?outSR=%7B%22latestWkid%22%3A4674%2C%22wkid%22%3A4674%7D')\n",
        "iris = sns.load_dataset('iris')\n"
      ],
      "execution_count": null,
      "outputs": []
    },
    {
      "cell_type": "markdown",
      "metadata": {
        "id": "_Jy2UcjYwiIO"
      },
      "source": [
        "# Visualização"
      ]
    },
    {
      "cell_type": "markdown",
      "metadata": {
        "id": "_Od86A5kw1mX"
      },
      "source": [
        "## Visualizando a distribuição de hectares ocupados por pivos de irrigação por estado"
      ]
    },
    {
      "cell_type": "code",
      "metadata": {
        "id": "OwgTwesklykU"
      },
      "source": [
        "pivos.head()"
      ],
      "execution_count": null,
      "outputs": []
    },
    {
      "cell_type": "code",
      "metadata": {
        "id": "5ih8FUOdrwnd"
      },
      "source": [
        "hect = pivos.groupby('NM_ESTADO').sum()"
      ],
      "execution_count": null,
      "outputs": []
    },
    {
      "cell_type": "code",
      "metadata": {
        "id": "aKgDd8_brhnn"
      },
      "source": [
        "fig, ax = plt.subplots(figsize=(20,10))\n",
        "ax.bar(hect.index,hect['HECTARES'])\n",
        "ax.tick_params(labelrotation=45)\n",
        "ax.annotate(\"Estado com maior área de pivos de irrigação\", xy=('MINAS GERAIS',350000), xycoords='data',xytext=(0.4, 0.95), textcoords='axes fraction',\n",
        "            arrowprops=dict(facecolor='black', shrink=0.05),\n",
        "            horizontalalignment='right', verticalalignment='top',\n",
        "            )\n",
        "\n",
        "\n",
        "plt.tight_layout()"
      ],
      "execution_count": null,
      "outputs": []
    },
    {
      "cell_type": "markdown",
      "metadata": {
        "id": "DTZs-zGYZLxV"
      },
      "source": [
        "## Visualizando a distribuição de hectares ocupados por pivos de irrigação por município"
      ]
    },
    {
      "cell_type": "code",
      "metadata": {
        "id": "OtP0z71Rr-n9"
      },
      "source": [
        "hectMG = pivos[pivos['NM_ESTADO']=='MINAS GERAIS'].groupby('NM_MUNICIP').sum()\n",
        "hectMT = pivos[pivos['NM_ESTADO']=='MATO GROSSO'].groupby('NM_MUNICIP').sum()\n",
        "hectBA = pivos[pivos['NM_ESTADO']=='BAHIA'].groupby('NM_MUNICIP').sum()"
      ],
      "execution_count": null,
      "outputs": []
    },
    {
      "cell_type": "code",
      "metadata": {
        "id": "c56NCDYzXT9p"
      },
      "source": [
        "hectMG.head()"
      ],
      "execution_count": null,
      "outputs": []
    },
    {
      "cell_type": "code",
      "metadata": {
        "id": "y4-Pm_WjVEsA"
      },
      "source": [
        "hectBA.head()"
      ],
      "execution_count": null,
      "outputs": []
    },
    {
      "cell_type": "code",
      "metadata": {
        "id": "PJR09EHNssLe"
      },
      "source": [
        "hectMT.head()"
      ],
      "execution_count": null,
      "outputs": []
    },
    {
      "cell_type": "code",
      "metadata": {
        "id": "U5_8Y92TUOB5"
      },
      "source": [
        "plt.figure(figsize=(20,10))\n",
        "plt.bar(hectMG.index,hectMG['HECTARES']);"
      ],
      "execution_count": null,
      "outputs": []
    },
    {
      "cell_type": "code",
      "metadata": {
        "id": "wPU0Uve66cYk"
      },
      "source": [
        "\n",
        "fig, (ax1,ax2) = plt.subplots(1,2,figsize=(25,15)) #Criando a figura que vai armazenar os plots e configurando o tamanho\n",
        "\n",
        "\n",
        "ax1.barh(hectMT.index,hectMT['HECTARES']) #plotando o grafico de barra horizontal do estado de Mato Grosso\n",
        "ax2.barh(hectBA.index,hectBA['HECTARES']) ##plotando o grafico de barra horizontal do estado da Bahia\n",
        "\n",
        "\n",
        "ax1.set_title('Mato Grosso') #colocando o titulo do grafico 1\n",
        "ax2.set_title('Bahia') #colocando o titulo do grafico 2\n",
        "\n",
        "\n",
        "ax1.set_ylabel('Municípios') #colocando o rótulo do eixo y no grafico 1\n",
        "ax1.set_xlabel('Hectares') ##colocando o rótulo do eixo x no grafico 1\n",
        "ax2.set_xlabel('Hectares')#colocando o rótulo do eixo x no grafico 2\n",
        "\n",
        "\n",
        "plt.tight_layout() #apresentando os gráficos\n",
        "\n",
        "fig.savefig('grafico.png') #salvando o gráfico\n"
      ],
      "execution_count": null,
      "outputs": []
    },
    {
      "cell_type": "code",
      "metadata": {
        "id": "EV0KFbs266TF"
      },
      "source": [
        ""
      ],
      "execution_count": null,
      "outputs": []
    },
    {
      "cell_type": "markdown",
      "metadata": {
        "id": "ReuL5pKIZZa3"
      },
      "source": [
        "## Visualizando relação entre os dados das flores iris"
      ]
    },
    {
      "cell_type": "code",
      "metadata": {
        "id": "iOXio_geZgxY"
      },
      "source": [
        "iris.head()"
      ],
      "execution_count": null,
      "outputs": []
    },
    {
      "cell_type": "code",
      "metadata": {
        "id": "JhbQM8xQcUul"
      },
      "source": [
        "iris.species.unique()"
      ],
      "execution_count": null,
      "outputs": []
    },
    {
      "cell_type": "code",
      "metadata": {
        "id": "42E6inSTZi38"
      },
      "source": [
        "fig, (ax1,ax2) = plt.subplots(1,2, figsize=(15,10))\n",
        "colors={'setosa':'red','versicolor':'green','virginica':'blue'}\n",
        "ax1.scatter(iris.sepal_length, iris.sepal_width, c=iris.species.map(colors))\n",
        "ax1.set_title('Sepal size')\n",
        "ax1.set_xlabel('length')\n",
        "ax1.set_ylabel('width')\n",
        "ax2.scatter(iris.petal_length,iris.petal_width,c=iris.species.map(colors))\n",
        "ax2.set_title('Petal size')\n",
        "ax2.set_xlabel('length')\n",
        "ax2.set_ylabel('width');"
      ],
      "execution_count": null,
      "outputs": []
    },
    {
      "cell_type": "code",
      "metadata": {
        "id": "pEhf1fWfZlQD"
      },
      "source": [
        ""
      ],
      "execution_count": null,
      "outputs": []
    }
  ]
}