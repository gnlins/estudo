{
  "nbformat": 4,
  "nbformat_minor": 0,
  "metadata": {
    "colab": {
      "name": "Minha primeira nuvem de palavras.ipynb",
      "private_outputs": true,
      "provenance": [],
      "mount_file_id": "1aHmhfJ45JP5y0SuN_rAQ3Up_DK_eSKYU",
      "authorship_tag": "ABX9TyNqEWQM2CS3nR/t4zdujm9K",
      "include_colab_link": true
    },
    "kernelspec": {
      "name": "python3",
      "display_name": "Python 3"
    },
    "language_info": {
      "name": "python"
    }
  },
  "cells": [
    {
      "cell_type": "markdown",
      "metadata": {
        "id": "view-in-github",
        "colab_type": "text"
      },
      "source": [
        "<a href=\"https://colab.research.google.com/github/gnlins/estudo/blob/master/Minha_primeira_nuvem_de_palavras.ipynb\" target=\"_parent\"><img src=\"https://colab.research.google.com/assets/colab-badge.svg\" alt=\"Open In Colab\"/></a>"
      ]
    },
    {
      "cell_type": "markdown",
      "metadata": {
        "id": "PzKiWaN4KyG3"
      },
      "source": [
        "#Instalando e importando bibliotecas"
      ]
    },
    {
      "cell_type": "code",
      "metadata": {
        "id": "qQwx6RvhI7Uj"
      },
      "source": [
        "pip install wordcloud -q"
      ],
      "execution_count": null,
      "outputs": []
    },
    {
      "cell_type": "code",
      "metadata": {
        "id": "BsrA8qBkK1Px"
      },
      "source": [
        "pip install newspaper3k -q"
      ],
      "execution_count": null,
      "outputs": []
    },
    {
      "cell_type": "code",
      "metadata": {
        "id": "G3ywQPzwLGQ4"
      },
      "source": [
        "from newspaper import Article #para coletar o texto da wikipedia que será usado\n",
        "from wordcloud import WordCloud, STOPWORDS, ImageColorGenerator #para fazer a nuvem de palavras\n",
        "import matplotlib.pyplot as plt #biblioteca para configurar a plotagem\n",
        "from PIL import Image #para abrir a imagem da máscara\n",
        "import numpy as np #para transformar a imagem em matriz"
      ],
      "execution_count": null,
      "outputs": []
    },
    {
      "cell_type": "markdown",
      "metadata": {
        "id": "3Xgd93nPOUHr"
      },
      "source": [
        "#Importando base de dados\n",
        "\n",
        "Aqui vou acessar os dados referentes ao artigo da [Wikipedia sobre Engenharia Ambiental](https://pt.wikipedia.org/wiki/Engenharia_do_ambiente)"
      ]
    },
    {
      "cell_type": "code",
      "metadata": {
        "id": "BXyQoEP_LHJD"
      },
      "source": [
        "referencia = 'https://pt.wikipedia.org/wiki/Engenharia_do_ambiente'\n",
        "artigo = Article(referencia,'pt-br')\n",
        "artigo.download()\n",
        "artigo.parse()"
      ],
      "execution_count": null,
      "outputs": []
    },
    {
      "cell_type": "code",
      "metadata": {
        "id": "z7Ya3F3APqGo"
      },
      "source": [
        "texto = artigo.text"
      ],
      "execution_count": null,
      "outputs": []
    },
    {
      "cell_type": "markdown",
      "metadata": {
        "id": "rdbxXpA1QaAc"
      },
      "source": [
        "#Criando a nuvem de palavra"
      ]
    },
    {
      "cell_type": "code",
      "metadata": {
        "id": "70hLI5-uPrXe"
      },
      "source": [
        "wc = WordCloud()\n",
        "\n",
        "wc.generate(texto)\n",
        "plt.imshow(wc, interpolation='bilinear')\n",
        "plt.axis('off')\n",
        "plt.show()"
      ],
      "execution_count": null,
      "outputs": []
    },
    {
      "cell_type": "markdown",
      "metadata": {
        "id": "MLwiS9bdR0xF"
      },
      "source": [
        "Como podemos perceber, existem palavras que aparecem excessivamente como, por exemplo 'de', 'da', 'por'... e essas palavras não acrescentam muito à nossa análise. Portanto utilizaremos uma lista de \"Stopworords\", as palavras presentes nessa lista não serão contabilizadas"
      ]
    },
    {
      "cell_type": "code",
      "metadata": {
        "id": "M3sTV-e9RKVH"
      },
      "source": [
        "STOPWORDS=['de', 'a', 'o', 'que', 'e', 'do', 'da', 'em', 'um', 'para', 'é', 'com', 'não', 'uma', 'os', 'no', 'se', 'na', 'por', 'mais', 'as', 'dos', 'como', 'mas', 'foi', 'ao', 'ele', 'das', 'tem', 'à', 'seu', 'sua', 'ou', 'ser', 'quando', 'muito', 'há', 'nos', 'já', 'está', 'eu', 'também', 'só', 'pelo', 'pela', 'até', 'isso', 'ela', 'entre', 'era', 'depois', 'sem', 'mesmo', 'aos', 'ter', 'seus', 'quem', 'nas', 'me', 'esse', 'eles', 'estão', 'você', 'tinha', 'foram', 'essa', 'num', 'nem', 'suas', 'meu', 'às', 'minha', 'têm', 'numa', 'pelos', 'elas', 'havia', 'seja', 'qual', 'será', 'nós', 'tenho', 'lhe', 'deles', 'essas', 'esses', 'pelas', 'este', 'fosse', 'dele', 'tu', 'te', 'vocês', 'vos', 'lhes', 'meus', 'minhas', 'teu', 'tua', 'teus', 'tuas', 'nosso', 'nossa', 'nossos', 'nossas', 'dela', 'delas', 'esta', 'estes', 'estas', 'aquele', 'aquela', 'aqueles', 'aquelas', 'isto', 'aquilo', 'estou', 'está', 'estamos', 'estão', 'estive', 'esteve', 'estivemos', 'estiveram', 'estava', 'estávamos', 'estavam', 'estivera', 'estivéramos', 'esteja', 'estejamos', 'estejam', 'estivesse', 'estivéssemos', 'estivessem', 'estiver', 'estivermos', 'estiverem', 'hei', 'há', 'havemos', 'hão', 'houve', 'houvemos', 'houveram', 'houvera', 'houvéramos', 'haja', 'hajamos', 'hajam', 'houvesse', 'houvéssemos', 'houvessem', 'houver', 'houvermos', 'houverem', 'houverei', 'houverá', 'houveremos', 'houverão', 'houveria', 'houveríamos', 'houveriam', 'sou', 'somos', 'são', 'era', 'éramos', 'eram', 'fui', 'foi', 'fomos', 'foram', 'fora', 'fôramos', 'seja', 'sejamos', 'sejam', 'fosse', 'fôssemos', 'fossem', 'for', 'formos', 'forem', 'serei', 'será', 'seremos', 'serão', 'seria', 'seríamos', 'seriam', 'tenho', 'tem', 'temos', 'tém', 'tinha', 'tínhamos', 'tinham', 'tive', 'teve', 'tivemos', 'tiveram', 'tivera', 'tivéramos', 'tenha', 'tenhamos', 'tenham', 'tivesse', 'tivéssemos', 'tivessem', 'tiver', 'tivermos', 'tiverem', 'terei', 'terá', 'teremos', 'terão', 'teria', 'teríamos', 'teriam']"
      ],
      "execution_count": null,
      "outputs": []
    },
    {
      "cell_type": "code",
      "metadata": {
        "id": "Z-ccbThdRxWF"
      },
      "source": [
        "wc = WordCloud(background_color='white', #Mudando a cor do fundo para branco\n",
        "               max_words = 2000, #numero máximo de palavras que vão aparecer\n",
        "               stopwords = STOPWORDS, #lista de palavras que não serão contabilizadas\n",
        "               max_font_size = 256, #Tamanho máximo de fonte\n",
        "               random_state=42, #atribuindo valor a esse parametro, as palavras aparecem de forma aleatória, mas sempre da mesma forma\n",
        "               width=500, #Largura da imagem\n",
        "               height=500 #altura da imagem\n",
        "               )\n",
        "\n",
        "wc.generate(texto)\n",
        "plt.imshow(wc, interpolation='bilinear')\n",
        "plt.axis('off')\n",
        "plt.tight_layout()"
      ],
      "execution_count": null,
      "outputs": []
    },
    {
      "cell_type": "markdown",
      "metadata": {
        "id": "LMekmv0dYI2F"
      },
      "source": [
        "# Fazendo nuvem de palavras com uma mascara customizada"
      ]
    },
    {
      "cell_type": "markdown",
      "metadata": {
        "id": "axnwZ_44dL1Z"
      },
      "source": [
        "Aqui utilizarei a logo da minha antiga empresa Júnior, Flua Consultoria Abmiental, como uma pequena homenagem.\n",
        "![Flua](https://static.wixstatic.com/media/2c476a_8e5033914b7748a0a36410c065763534~mv2.png/v1/fill/w_424,h_420,al_c,q_85,usm_0.66_1.00_0.01/%5BFLUA%5D_Assinatura_Principal_Verde-Fundo_.webp)"
      ]
    },
    {
      "cell_type": "markdown",
      "metadata": {
        "id": "TIjGX6n9dhc1"
      },
      "source": [
        "## Criando a Máscara"
      ]
    },
    {
      "cell_type": "code",
      "metadata": {
        "id": "whZXeb7SSnVw"
      },
      "source": [
        "path_image = '/content/drive/MyDrive/Online_CODE/Logo_Flua.jpg' #Localização da imagem a ser utilizada como máscara\n",
        "\n",
        "mask = np.array(Image.open(path_image))\n",
        "wc = WordCloud(background_color='white',\n",
        "               mask = mask, #configurando a imagem como máscara\n",
        "               max_words = 2000,\n",
        "               stopwords = STOPWORDS,\n",
        "               max_font_size = 256,\n",
        "               random_state=42,\n",
        "               width=mask.shape[1],\n",
        "               height=mask.shape[0])\n",
        "\n",
        "wc.generate(texto)\n",
        "plt.imshow(wc, interpolation='bilinear')\n",
        "plt.axis('off')\n",
        "plt.show()"
      ],
      "execution_count": null,
      "outputs": []
    },
    {
      "cell_type": "markdown",
      "metadata": {
        "id": "N4ptAP1udkRD"
      },
      "source": [
        "##Personalizando as cores da Máscara"
      ]
    },
    {
      "cell_type": "code",
      "metadata": {
        "id": "LrDVpZlrUA1W"
      },
      "source": [
        "path_image = '/content/drive/MyDrive/Online_CODE/Logo_Flua.jpg'\n",
        "\n",
        "mask = np.array(Image.open(path_image))\n",
        "wc = WordCloud(background_color='black',\n",
        "               mask = mask,\n",
        "               max_words = 2000,\n",
        "               stopwords = STOPWORDS,\n",
        "               max_font_size = 256,\n",
        "               random_state=42,\n",
        "               width=mask.shape[1],\n",
        "               height=mask.shape[0])\n",
        "\n",
        "wc.generate(texto)\n",
        "image_colors = ImageColorGenerator(mask)\n",
        "wc.recolor(color_func=image_colors) #usando as cores da imagem para exibição das palavras\n",
        "\n",
        "plt.figure(figsize=(10,10))\n",
        "plt.imshow(wc, interpolation='bilinear')\n",
        "plt.axis('off')\n",
        "plt.tight_layout(pad=0) #retirando bordas\n",
        "plt.savefig('Eng_Flua.png') #Salvando a imagem\n",
        "\n"
      ],
      "execution_count": null,
      "outputs": []
    },
    {
      "cell_type": "markdown",
      "metadata": {
        "id": "lcSf07UId0FE"
      },
      "source": [
        "Para a documentação mais detalhada da biblioteca, [Clique aqui](https://amueller.github.io/word_cloud/references.html)"
      ]
    }
  ]
}